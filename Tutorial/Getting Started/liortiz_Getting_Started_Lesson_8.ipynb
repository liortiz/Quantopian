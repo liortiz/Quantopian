{
  "nbformat": 4,
  "nbformat_minor": 0,
  "metadata": {
    "colab": {
      "name": "liortiz Getting Started: Lesson 8",
      "provenance": []
    },
    "kernelspec": {
      "name": "python3",
      "display_name": "Python 3"
    }
  },
  "cells": [
    {
      "cell_type": "markdown",
      "metadata": {
        "id": "4wu_rOfru9gR",
        "colab_type": "text"
      },
      "source": [
        "Run the cell below to create your tear sheet."
      ]
    },
    {
      "cell_type": "code",
      "metadata": {
        "id": "lThPuYBn6Rv5",
        "colab_type": "code",
        "colab": {}
      },
      "source": [
        "bt = get_backtest('5e88c0cf63c4df4593f4f0ef')\n",
        "bt.create_full_tear_sheet()"
      ],
      "execution_count": 0,
      "outputs": []
    }
  ]
}